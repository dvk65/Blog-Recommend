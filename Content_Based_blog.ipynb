{
 "cells": [
  {
   "cell_type": "markdown",
   "metadata": {
    "id": "_vUMX080bcFl"
   },
   "source": [
    "# Content-based recommender system using Cosine-Similarity"
   ]
  },
  {
   "cell_type": "code",
   "execution_count": null,
   "metadata": {
    "id": "U4l9nsiubvgo"
   },
   "outputs": [],
   "source": [
    "# !pip install rake_nltk"
   ]
  },
  {
   "cell_type": "code",
   "execution_count": null,
   "metadata": {
    "id": "RNPVfT8rbXWs"
   },
   "outputs": [],
   "source": [
    "import pandas as pd\n",
    "from rake_nltk import Rake\n",
    "import numpy as np\n",
    "from sklearn.metrics.pairwise import cosine_similarity\n",
    "from sklearn.feature_extraction.text import CountVectorizer"
   ]
  },
  {
   "cell_type": "code",
   "execution_count": null,
   "metadata": {
    "colab": {
     "base_uri": "https://localhost:8080/",
     "height": 204
    },
    "executionInfo": {
     "elapsed": 943,
     "status": "ok",
     "timestamp": 1619435749894,
     "user": {
      "displayName": "Swapnil Vishwakarma",
      "photoUrl": "",
      "userId": "11662253149184524792"
     },
     "user_tz": -330
    },
    "id": "nfwP_3OPbrCW",
    "outputId": "c66e666f-7f9d-4726-8494-8377de2cc345"
   },
   "outputs": [
    {
     "data": {
      "text/html": [
       "<div>\n",
       "<style scoped>\n",
       "    .dataframe tbody tr th:only-of-type {\n",
       "        vertical-align: middle;\n",
       "    }\n",
       "\n",
       "    .dataframe tbody tr th {\n",
       "        vertical-align: top;\n",
       "    }\n",
       "\n",
       "    .dataframe thead th {\n",
       "        text-align: right;\n",
       "    }\n",
       "</style>\n",
       "<table border=\"1\" class=\"dataframe\">\n",
       "  <thead>\n",
       "    <tr style=\"text-align: right;\">\n",
       "      <th></th>\n",
       "      <th>title</th>\n",
       "      <th>info</th>\n",
       "    </tr>\n",
       "  </thead>\n",
       "  <tbody>\n",
       "    <tr>\n",
       "      <th>0</th>\n",
       "      <td>how to write a good official resume</td>\n",
       "      <td>building and maintaining a good resume is extr...</td>\n",
       "    </tr>\n",
       "    <tr>\n",
       "      <th>1</th>\n",
       "      <td>why should you do internships</td>\n",
       "      <td>internships are defined as “any official or fo...</td>\n",
       "    </tr>\n",
       "    <tr>\n",
       "      <th>2</th>\n",
       "      <td>what are some of the best sites to apply for i...</td>\n",
       "      <td>internships are a great tool in the life of an...</td>\n",
       "    </tr>\n",
       "    <tr>\n",
       "      <th>3</th>\n",
       "      <td>what are the various scholarships available fo...</td>\n",
       "      <td>scholarships are a great boon for students who...</td>\n",
       "    </tr>\n",
       "    <tr>\n",
       "      <th>4</th>\n",
       "      <td>what are the upcoming careers in the science f...</td>\n",
       "      <td>science has been impacting our lives majorly f...</td>\n",
       "    </tr>\n",
       "  </tbody>\n",
       "</table>\n",
       "</div>"
      ],
      "text/plain": [
       "                                               title                                               info\n",
       "0                how to write a good official resume  building and maintaining a good resume is extr...\n",
       "1                      why should you do internships  internships are defined as “any official or fo...\n",
       "2  what are some of the best sites to apply for i...  internships are a great tool in the life of an...\n",
       "3  what are the various scholarships available fo...  scholarships are a great boon for students who...\n",
       "4  what are the upcoming careers in the science f...  science has been impacting our lives majorly f..."
      ]
     },
     "execution_count": 2,
     "metadata": {
      "tags": []
     },
     "output_type": "execute_result"
    }
   ],
   "source": [
    "df = pd.read_excel(\"blogs_extract.xlsx\")\n",
    "df.head()"
   ]
  },
  {
   "cell_type": "code",
   "execution_count": null,
   "metadata": {
    "colab": {
     "base_uri": "https://localhost:8080/"
    },
    "executionInfo": {
     "elapsed": 790,
     "status": "ok",
     "timestamp": 1619435751744,
     "user": {
      "displayName": "Swapnil Vishwakarma",
      "photoUrl": "",
      "userId": "11662253149184524792"
     },
     "user_tz": -330
    },
    "id": "rKQb9_5KbrwI",
    "outputId": "3b354a39-775d-4d79-c647-c37f6990454b"
   },
   "outputs": [
    {
     "data": {
      "text/plain": [
       "(97, 2)"
      ]
     },
     "execution_count": 3,
     "metadata": {
      "tags": []
     },
     "output_type": "execute_result"
    }
   ],
   "source": [
    "df.shape"
   ]
  },
  {
   "cell_type": "code",
   "execution_count": null,
   "metadata": {
    "id": "CUcQSFGqcBYr"
   },
   "outputs": [],
   "source": [
    "# initializing the new column\n",
    "df['Key_words'] = \"\"\n",
    "\n",
    "for index, row in df.iterrows():\n",
    "    info = row['info']\n",
    "    \n",
    "    # instantiating Rake, by default is uses english stopwords from NLTK\n",
    "    # and discard all punctuation characters\n",
    "    r = Rake()\n",
    "\n",
    "    # extracting the words by passing the text\n",
    "    r.extract_keywords_from_text(info)\n",
    "\n",
    "    # getting the dictionary with key words and their scores\n",
    "    key_words_dict_scores = r.get_word_degrees()\n",
    "    \n",
    "    # assigning the key words to the new column\n",
    "    row['Key_words'] = list(key_words_dict_scores.keys())\n",
    "\n",
    "# dropping the info column\n",
    "df.drop(columns = ['info'], inplace = True)"
   ]
  },
  {
   "cell_type": "code",
   "execution_count": null,
   "metadata": {
    "colab": {
     "base_uri": "https://localhost:8080/",
     "height": 235
    },
    "executionInfo": {
     "elapsed": 1887,
     "status": "ok",
     "timestamp": 1619435755293,
     "user": {
      "displayName": "Swapnil Vishwakarma",
      "photoUrl": "",
      "userId": "11662253149184524792"
     },
     "user_tz": -330
    },
    "id": "mlkHqXlFcor2",
    "outputId": "b4f5ab29-d3c9-40a7-d719-db0156aa18fd"
   },
   "outputs": [
    {
     "data": {
      "text/html": [
       "<div>\n",
       "<style scoped>\n",
       "    .dataframe tbody tr th:only-of-type {\n",
       "        vertical-align: middle;\n",
       "    }\n",
       "\n",
       "    .dataframe tbody tr th {\n",
       "        vertical-align: top;\n",
       "    }\n",
       "\n",
       "    .dataframe thead th {\n",
       "        text-align: right;\n",
       "    }\n",
       "</style>\n",
       "<table border=\"1\" class=\"dataframe\">\n",
       "  <thead>\n",
       "    <tr style=\"text-align: right;\">\n",
       "      <th></th>\n",
       "      <th>Key_words</th>\n",
       "    </tr>\n",
       "    <tr>\n",
       "      <th>title</th>\n",
       "      <th></th>\n",
       "    </tr>\n",
       "  </thead>\n",
       "  <tbody>\n",
       "    <tr>\n",
       "      <th>how to write a good official resume</th>\n",
       "      <td>[growth, depending, experience, research, work...</td>\n",
       "    </tr>\n",
       "    <tr>\n",
       "      <th>why should you do internships</th>\n",
       "      <td>[part, experience, problem, solving, job, mark...</td>\n",
       "    </tr>\n",
       "    <tr>\n",
       "      <th>what are some of the best sites to apply for internships in india</th>\n",
       "      <td>[best, internship, get, noticed, find, interns...</td>\n",
       "    </tr>\n",
       "    <tr>\n",
       "      <th>what are the various scholarships available for mbbs students in india</th>\n",
       "      <td>[5000, pursuing, graduation, academic, fields,...</td>\n",
       "    </tr>\n",
       "    <tr>\n",
       "      <th>what are the upcoming careers in the science field</th>\n",
       "      <td>[even, wearable, technology, edge, research, a...</td>\n",
       "    </tr>\n",
       "  </tbody>\n",
       "</table>\n",
       "</div>"
      ],
      "text/plain": [
       "                                                                                            Key_words\n",
       "title                                                                                                \n",
       "how to write a good official resume                 [growth, depending, experience, research, work...\n",
       "why should you do internships                       [part, experience, problem, solving, job, mark...\n",
       "what are some of the best sites to apply for in...  [best, internship, get, noticed, find, interns...\n",
       "what are the various scholarships available for...  [5000, pursuing, graduation, academic, fields,...\n",
       "what are the upcoming careers in the science field  [even, wearable, technology, edge, research, a..."
      ]
     },
     "execution_count": 5,
     "metadata": {
      "tags": []
     },
     "output_type": "execute_result"
    }
   ],
   "source": [
    "df.set_index('title', inplace = True)\n",
    "df.head()"
   ]
  },
  {
   "cell_type": "code",
   "execution_count": null,
   "metadata": {
    "id": "0t8ahdADcwg6"
   },
   "outputs": [],
   "source": [
    "df['bag_of_words'] = ''\n",
    "columns = df.columns\n",
    "for index, row in df.iterrows():\n",
    "    words = ''\n",
    "    for col in columns:\n",
    "        words = words + ' '.join(row[col])+ ' '\n",
    "    row['bag_of_words'] = words\n",
    "    \n",
    "df.drop(columns = [col for col in df.columns if col!= 'bag_of_words'], inplace = True)"
   ]
  },
  {
   "cell_type": "code",
   "execution_count": null,
   "metadata": {
    "colab": {
     "base_uri": "https://localhost:8080/",
     "height": 235
    },
    "executionInfo": {
     "elapsed": 1182,
     "status": "ok",
     "timestamp": 1619435756205,
     "user": {
      "displayName": "Swapnil Vishwakarma",
      "photoUrl": "",
      "userId": "11662253149184524792"
     },
     "user_tz": -330
    },
    "id": "pFmEjBLge3HL",
    "outputId": "6485f12a-6233-4646-c438-2551535265c6"
   },
   "outputs": [
    {
     "data": {
      "text/html": [
       "<div>\n",
       "<style scoped>\n",
       "    .dataframe tbody tr th:only-of-type {\n",
       "        vertical-align: middle;\n",
       "    }\n",
       "\n",
       "    .dataframe tbody tr th {\n",
       "        vertical-align: top;\n",
       "    }\n",
       "\n",
       "    .dataframe thead th {\n",
       "        text-align: right;\n",
       "    }\n",
       "</style>\n",
       "<table border=\"1\" class=\"dataframe\">\n",
       "  <thead>\n",
       "    <tr style=\"text-align: right;\">\n",
       "      <th></th>\n",
       "      <th>bag_of_words</th>\n",
       "    </tr>\n",
       "    <tr>\n",
       "      <th>title</th>\n",
       "      <th></th>\n",
       "    </tr>\n",
       "  </thead>\n",
       "  <tbody>\n",
       "    <tr>\n",
       "      <th>how to write a good official resume</th>\n",
       "      <td>growth depending experience research work well...</td>\n",
       "    </tr>\n",
       "    <tr>\n",
       "      <th>why should you do internships</th>\n",
       "      <td>part experience problem solving job market rec...</td>\n",
       "    </tr>\n",
       "    <tr>\n",
       "      <th>what are some of the best sites to apply for internships in india</th>\n",
       "      <td>best internship get noticed find interns start...</td>\n",
       "    </tr>\n",
       "    <tr>\n",
       "      <th>what are the various scholarships available for mbbs students in india</th>\n",
       "      <td>5000 pursuing graduation academic fields trans...</td>\n",
       "    </tr>\n",
       "    <tr>\n",
       "      <th>what are the upcoming careers in the science field</th>\n",
       "      <td>even wearable technology edge research aerospa...</td>\n",
       "    </tr>\n",
       "  </tbody>\n",
       "</table>\n",
       "</div>"
      ],
      "text/plain": [
       "                                                                                         bag_of_words\n",
       "title                                                                                                \n",
       "how to write a good official resume                 growth depending experience research work well...\n",
       "why should you do internships                       part experience problem solving job market rec...\n",
       "what are some of the best sites to apply for in...  best internship get noticed find interns start...\n",
       "what are the various scholarships available for...  5000 pursuing graduation academic fields trans...\n",
       "what are the upcoming careers in the science field  even wearable technology edge research aerospa..."
      ]
     },
     "execution_count": 7,
     "metadata": {
      "tags": []
     },
     "output_type": "execute_result"
    }
   ],
   "source": [
    "df.head()"
   ]
  },
  {
   "cell_type": "code",
   "execution_count": null,
   "metadata": {
    "colab": {
     "base_uri": "https://localhost:8080/"
    },
    "executionInfo": {
     "elapsed": 1266,
     "status": "ok",
     "timestamp": 1619435757158,
     "user": {
      "displayName": "Swapnil Vishwakarma",
      "photoUrl": "",
      "userId": "11662253149184524792"
     },
     "user_tz": -330
    },
    "id": "VS7vpnYse9Hu",
    "outputId": "763802d9-8ad3-47eb-dfcc-f67570ecb985"
   },
   "outputs": [
    {
     "data": {
      "text/plain": [
       "0                  how to write a good official resume\n",
       "1                        why should you do internships\n",
       "2    what are some of the best sites to apply for i...\n",
       "3    what are the various scholarships available fo...\n",
       "4    what are the upcoming careers in the science f...\n",
       "Name: title, dtype: object"
      ]
     },
     "execution_count": 8,
     "metadata": {
      "tags": []
     },
     "output_type": "execute_result"
    }
   ],
   "source": [
    "# instantiating and generating the count matrix\n",
    "count = CountVectorizer()\n",
    "count_matrix = count.fit_transform(df['bag_of_words'])\n",
    "\n",
    "# creating a Series for the blog titles so they are associated to an ordered numerical\n",
    "# list I will use later to match the indexes\n",
    "indices = pd.Series(df.index)\n",
    "indices[:5]"
   ]
  },
  {
   "cell_type": "code",
   "execution_count": null,
   "metadata": {
    "colab": {
     "base_uri": "https://localhost:8080/"
    },
    "executionInfo": {
     "elapsed": 1784,
     "status": "ok",
     "timestamp": 1619435758629,
     "user": {
      "displayName": "Swapnil Vishwakarma",
      "photoUrl": "",
      "userId": "11662253149184524792"
     },
     "user_tz": -330
    },
    "id": "woX5qnE_fmAx",
    "outputId": "0f7b231c-16ee-40d8-aae5-549262e2e2eb"
   },
   "outputs": [
    {
     "data": {
      "text/plain": [
       "array([[1.        , 0.16064915, 0.14796631, ..., 0.13443321, 0.18630692,\n",
       "        0.12686482],\n",
       "       [0.16064915, 1.        , 0.2276498 , ..., 0.13870662, 0.15055722,\n",
       "        0.09981492],\n",
       "       [0.14796631, 0.2276498 , 1.        , ..., 0.12170846, 0.1280041 ,\n",
       "        0.10421757],\n",
       "       ...,\n",
       "       [0.13443321, 0.13870662, 0.12170846, ..., 1.        , 0.22047928,\n",
       "        0.11283387],\n",
       "       [0.18630692, 0.15055722, 0.1280041 , ..., 0.22047928, 1.        ,\n",
       "        0.12923392],\n",
       "       [0.12686482, 0.09981492, 0.10421757, ..., 0.11283387, 0.12923392,\n",
       "        1.        ]])"
      ]
     },
     "execution_count": 9,
     "metadata": {
      "tags": []
     },
     "output_type": "execute_result"
    }
   ],
   "source": [
    "# generating the cosine similarity matrix\n",
    "cosine_sim = cosine_similarity(count_matrix, count_matrix)\n",
    "cosine_sim"
   ]
  },
  {
   "cell_type": "code",
   "execution_count": null,
   "metadata": {
    "id": "8yvvZrEYfqLC"
   },
   "outputs": [],
   "source": [
    "# function that takes in blog title as input and returns the top 10 recommended blogs\n",
    "def recommendations(title, cosine_sim = cosine_sim):\n",
    "    \n",
    "    recommended_blogs = []\n",
    "    \n",
    "    # gettin the index of the blog that matches the title\n",
    "    idx = indices[indices == title].index[0]\n",
    "\n",
    "    # creating a Series with the similarity scores in descending order\n",
    "    score_series = pd.Series(cosine_sim[idx]).sort_values(ascending = False)\n",
    "\n",
    "    # getting the indexes of the 10 most similar blogs\n",
    "    top_10_indexes = list(score_series.iloc[1:11].index)\n",
    "    \n",
    "    # populating the list with the titles of the best 10 matching blogs\n",
    "    for i in top_10_indexes:\n",
    "        recommended_blogs.append(list(df.index)[i])\n",
    "        \n",
    "    return recommended_blogs"
   ]
  },
  {
   "cell_type": "code",
   "execution_count": null,
   "metadata": {
    "colab": {
     "base_uri": "https://localhost:8080/"
    },
    "executionInfo": {
     "elapsed": 1257,
     "status": "ok",
     "timestamp": 1619435760882,
     "user": {
      "displayName": "Swapnil Vishwakarma",
      "photoUrl": "",
      "userId": "11662253149184524792"
     },
     "user_tz": -330
    },
    "id": "-A6VnO_D4Ahy",
    "outputId": "3b5aa651-f71b-436e-fa45-ca5dd3b7628d"
   },
   "outputs": [
    {
     "data": {
      "text/plain": [
       "['how you can start your own side hustle',\n",
       " 'which are the most common interview questions',\n",
       " 'what is the best way to earn my pocket money online as a student',\n",
       " 'how to create the perfect linkedin profile',\n",
       " 'how to be a problem solver',\n",
       " 'how to pick the right college',\n",
       " 'how can i stop my social media addiction',\n",
       " 'what are a few tips to improve my academic performance',\n",
       " 'should you start to learn to code',\n",
       " 'good journaling habits']"
      ]
     },
     "execution_count": 11,
     "metadata": {
      "tags": []
     },
     "output_type": "execute_result"
    }
   ],
   "source": [
    "recommendations('how to write a good official resume')"
   ]
  },
  {
   "cell_type": "code",
   "execution_count": null,
   "metadata": {
    "colab": {
     "base_uri": "https://localhost:8080/"
    },
    "executionInfo": {
     "elapsed": 631,
     "status": "ok",
     "timestamp": 1619435761373,
     "user": {
      "displayName": "Swapnil Vishwakarma",
      "photoUrl": "",
      "userId": "11662253149184524792"
     },
     "user_tz": -330
    },
    "id": "6K2XIKgV4AXN",
    "outputId": "11858ef0-ac14-47a1-88a9-237f94159de0"
   },
   "outputs": [
    {
     "data": {
      "text/plain": [
       "['importance of being in clubs or committees',\n",
       " 'should you consider preparing for masters',\n",
       " 'how to develop leadership during college',\n",
       " 'why you should participate in extracurricular activities',\n",
       " 'how to become a content writer in india',\n",
       " 'what are good co-curricular activities to improve my cv',\n",
       " 'the importance of having a mentor',\n",
       " 'how much does college cgpa matter',\n",
       " 'is it okay to take drop a year post 12th?',\n",
       " 'what if i do not get selected via campus placements']"
      ]
     },
     "execution_count": 12,
     "metadata": {
      "tags": []
     },
     "output_type": "execute_result"
    }
   ],
   "source": [
    "recommendations('why should you do internships')"
   ]
  },
  {
   "cell_type": "code",
   "execution_count": null,
   "metadata": {
    "colab": {
     "base_uri": "https://localhost:8080/"
    },
    "executionInfo": {
     "elapsed": 1261,
     "status": "ok",
     "timestamp": 1619435763755,
     "user": {
      "displayName": "Swapnil Vishwakarma",
      "photoUrl": "",
      "userId": "11662253149184524792"
     },
     "user_tz": -330
    },
    "id": "_wpsdMMu4ANU",
    "outputId": "abc0b1ab-bc4f-42af-eca6-5688e4802b98"
   },
   "outputs": [
    {
     "data": {
      "text/plain": [
       "['how can i apply for scholarship in india?',\n",
       " 'top foreign countries to pursue a masters’ from',\n",
       " 'which stream of engineering to choose',\n",
       " 'where can students learn online courses in india?',\n",
       " 'what are some good career options in arts are there any',\n",
       " 'corporate job vs government job',\n",
       " 'should i go for ib or being in india, choose cbse',\n",
       " 'why do so many students in india study engineering',\n",
       " 'how will the nep 2020 impact students',\n",
       " 'what are the highest paying jobs in india']"
      ]
     },
     "execution_count": 13,
     "metadata": {
      "tags": []
     },
     "output_type": "execute_result"
    }
   ],
   "source": [
    "recommendations('what are the various scholarships available for mbbs students in india')"
   ]
  },
  {
   "cell_type": "code",
   "execution_count": null,
   "metadata": {
    "colab": {
     "base_uri": "https://localhost:8080/"
    },
    "executionInfo": {
     "elapsed": 1089,
     "status": "ok",
     "timestamp": 1619435764610,
     "user": {
      "displayName": "Swapnil Vishwakarma",
      "photoUrl": "",
      "userId": "11662253149184524792"
     },
     "user_tz": -330
    },
    "id": "gUgxf3B74AEl",
    "outputId": "b87d6625-f6ee-479c-9ca8-46a508ab9226"
   },
   "outputs": [
    {
     "data": {
      "text/plain": [
       "['how to start my own startup',\n",
       " 'why is choosing the right career important',\n",
       " 'should you start to learn to code',\n",
       " 'how to be a problem solver',\n",
       " 'is public speaking important for me?',\n",
       " 'what are the top career myths',\n",
       " 'how you can start your own side hustle',\n",
       " 'top ways of being successful',\n",
       " 'should you consider preparing for masters',\n",
       " 'what if i do not get selected via campus placements']"
      ]
     },
     "execution_count": 14,
     "metadata": {
      "tags": []
     },
     "output_type": "execute_result"
    }
   ],
   "source": [
    "recommendations('how can students turn their ideas into a business?')"
   ]
  },
  {
   "cell_type": "code",
   "execution_count": null,
   "metadata": {
    "colab": {
     "base_uri": "https://localhost:8080/"
    },
    "executionInfo": {
     "elapsed": 1923,
     "status": "ok",
     "timestamp": 1619435766406,
     "user": {
      "displayName": "Swapnil Vishwakarma",
      "photoUrl": "",
      "userId": "11662253149184524792"
     },
     "user_tz": -330
    },
    "id": "o2Bsvbed3_8V",
    "outputId": "b043500b-7bec-4b72-8cef-0c3e5573c367"
   },
   "outputs": [
    {
     "data": {
      "text/plain": [
       "['how much does college cgpa matter',\n",
       " 'how to become a professional from a student',\n",
       " 'how to become a lifelong learner',\n",
       " 'what if i do not get selected via campus placements',\n",
       " 'how can career counselling assist you',\n",
       " 'is it worth becoming a politician',\n",
       " 'jobs that may become automated in the future',\n",
       " 'what are the future careers to arise after the pandemic',\n",
       " 'evergreen skills that everyone should develop',\n",
       " 'why are psychometric tests necessary']"
      ]
     },
     "execution_count": 15,
     "metadata": {
      "tags": []
     },
     "output_type": "execute_result"
    }
   ],
   "source": [
    "recommendations('what are the future prospects in architecture')"
   ]
  },
  {
   "cell_type": "code",
   "execution_count": null,
   "metadata": {
    "colab": {
     "base_uri": "https://localhost:8080/"
    },
    "executionInfo": {
     "elapsed": 1398,
     "status": "ok",
     "timestamp": 1619435767052,
     "user": {
      "displayName": "Swapnil Vishwakarma",
      "photoUrl": "",
      "userId": "11662253149184524792"
     },
     "user_tz": -330
    },
    "id": "c9-5D2qp3_th",
    "outputId": "655322c4-d5c6-4df6-8e2a-83fff2908f8b"
   },
   "outputs": [
    {
     "data": {
      "text/plain": [
       "['how to become a content writer in india',\n",
       " 'should you start to learn to code',\n",
       " 'best books to become a better student',\n",
       " 'what if i do not get selected via campus placements',\n",
       " 'what are some of the best sites to apply for internships in india',\n",
       " 'how to write a good official resume',\n",
       " 'should you consider preparing for masters',\n",
       " 'how can i stop my social media addiction',\n",
       " 'how can i learn a new language',\n",
       " 'what are good co-curricular activities to improve my cv']"
      ]
     },
     "execution_count": 16,
     "metadata": {
      "tags": []
     },
     "output_type": "execute_result"
    }
   ],
   "source": [
    "recommendations('what is the best way to earn my pocket money online as a student')"
   ]
  },
  {
   "cell_type": "code",
   "execution_count": null,
   "metadata": {
    "colab": {
     "base_uri": "https://localhost:8080/"
    },
    "executionInfo": {
     "elapsed": 1428,
     "status": "ok",
     "timestamp": 1619435768228,
     "user": {
      "displayName": "Swapnil Vishwakarma",
      "photoUrl": "",
      "userId": "11662253149184524792"
     },
     "user_tz": -330
    },
    "id": "w5q8hjKG3_kw",
    "outputId": "9d04986a-8fb3-4cd2-f210-bf85b37ec751"
   },
   "outputs": [
    {
     "data": {
      "text/plain": [
       "['what is the importance of time management for students',\n",
       " 'how to learn more effectively',\n",
       " 'how can i stop my social media addiction',\n",
       " 'how much does college cgpa matter',\n",
       " 'what are a few tips to improve my academic performance',\n",
       " 'the future of education after the pandemic',\n",
       " 'how can i face the hostel life in college?',\n",
       " 'how can students these days deal with social anxiety',\n",
       " 'is it okay to take drop a year post 12th?',\n",
       " 'what are the top career myths']"
      ]
     },
     "execution_count": 17,
     "metadata": {
      "tags": []
     },
     "output_type": "execute_result"
    }
   ],
   "source": [
    "recommendations('tips to focus during online classes')"
   ]
  },
  {
   "cell_type": "code",
   "execution_count": null,
   "metadata": {
    "colab": {
     "base_uri": "https://localhost:8080/"
    },
    "executionInfo": {
     "elapsed": 1523,
     "status": "ok",
     "timestamp": 1619435769433,
     "user": {
      "displayName": "Swapnil Vishwakarma",
      "photoUrl": "",
      "userId": "11662253149184524792"
     },
     "user_tz": -330
    },
    "id": "nohV1tpS3_ai",
    "outputId": "61aa0abe-c012-481f-8001-503226a694fb"
   },
   "outputs": [
    {
     "data": {
      "text/plain": [
       "['good journaling habits',\n",
       " 'top ways of being successful',\n",
       " 'how can i learn a new language',\n",
       " 'tips to focus during online classes',\n",
       " 'myths about foreign education (1)',\n",
       " 'how to learn more effectively',\n",
       " 'how you can start your own side hustle',\n",
       " 'what is the importance of time management for students',\n",
       " 'how can students these days deal with social anxiety',\n",
       " 'should you start to learn to code']"
      ]
     },
     "execution_count": 18,
     "metadata": {
      "tags": []
     },
     "output_type": "execute_result"
    }
   ],
   "source": [
    "recommendations('how can i stop my social media addiction')"
   ]
  },
  {
   "cell_type": "code",
   "execution_count": null,
   "metadata": {
    "id": "nz2enjuq3_En"
   },
   "outputs": [],
   "source": []
  },
  {
   "cell_type": "code",
   "execution_count": null,
   "metadata": {
    "id": "uet8hM3O3-8R"
   },
   "outputs": [],
   "source": []
  },
  {
   "cell_type": "code",
   "execution_count": null,
   "metadata": {
    "id": "W_BQiu-_3-2F"
   },
   "outputs": [],
   "source": []
  },
  {
   "cell_type": "code",
   "execution_count": null,
   "metadata": {
    "id": "fucRfCGAzjF7"
   },
   "outputs": [],
   "source": []
  },
  {
   "cell_type": "markdown",
   "metadata": {
    "id": "y1LbuTor36nJ"
   },
   "source": [
    "## Icluding Read_Counts"
   ]
  },
  {
   "cell_type": "code",
   "execution_count": null,
   "metadata": {
    "colab": {
     "base_uri": "https://localhost:8080/",
     "height": 235
    },
    "id": "wAsIQi9m9yVo",
    "outputId": "d1a44e74-520e-4e89-9004-5e445d5bb15c"
   },
   "outputs": [
    {
     "data": {
      "text/html": [
       "<div>\n",
       "<style scoped>\n",
       "    .dataframe tbody tr th:only-of-type {\n",
       "        vertical-align: middle;\n",
       "    }\n",
       "\n",
       "    .dataframe tbody tr th {\n",
       "        vertical-align: top;\n",
       "    }\n",
       "\n",
       "    .dataframe thead th {\n",
       "        text-align: right;\n",
       "    }\n",
       "</style>\n",
       "<table border=\"1\" class=\"dataframe\">\n",
       "  <thead>\n",
       "    <tr style=\"text-align: right;\">\n",
       "      <th></th>\n",
       "      <th>bag_of_words</th>\n",
       "      <th>read_counts</th>\n",
       "    </tr>\n",
       "    <tr>\n",
       "      <th>title</th>\n",
       "      <th></th>\n",
       "      <th></th>\n",
       "    </tr>\n",
       "  </thead>\n",
       "  <tbody>\n",
       "    <tr>\n",
       "      <th>First Artificial Enzyme From Two Non-Biological Groups Created</th>\n",
       "      <td>scientists lmrr protein chemical reactions the...</td>\n",
       "      <td>34</td>\n",
       "    </tr>\n",
       "    <tr>\n",
       "      <th>AI Will Revolutionize DNA Evidence – Once We Can Trust The Results</th>\n",
       "      <td>scientists programmers battle ensued shutterst...</td>\n",
       "      <td>83</td>\n",
       "    </tr>\n",
       "    <tr>\n",
       "      <th>The Hubble Space Telescope Is Falling (Synopsis)</th>\n",
       "      <td>using timespan two ways “ end ” loses altitude...</td>\n",
       "      <td>78</td>\n",
       "    </tr>\n",
       "    <tr>\n",
       "      <th>5 NASA Photos That Changed The World</th>\n",
       "      <td>advances accepted fact today may explaining na...</td>\n",
       "      <td>20</td>\n",
       "    </tr>\n",
       "    <tr>\n",
       "      <th>Double Comments of the Week #178: From Point Particles To The Very First Galaxies Of All</th>\n",
       "      <td>fine suppose hand negative curvature .\" bars p...</td>\n",
       "      <td>23</td>\n",
       "    </tr>\n",
       "  </tbody>\n",
       "</table>\n",
       "</div>"
      ],
      "text/plain": [
       "                                                                                         bag_of_words  read_counts\n",
       "title                                                                                                             \n",
       "First Artificial Enzyme From Two Non-Biological...  scientists lmrr protein chemical reactions the...           34\n",
       "AI Will Revolutionize DNA Evidence – Once We Ca...  scientists programmers battle ensued shutterst...           83\n",
       "The Hubble Space Telescope Is Falling (Synopsis)    using timespan two ways “ end ” loses altitude...           78\n",
       "5 NASA Photos That Changed The World                advances accepted fact today may explaining na...           20\n",
       "Double Comments of the Week #178: From Point Pa...  fine suppose hand negative curvature .\" bars p...           23"
      ]
     },
     "execution_count": 11,
     "metadata": {
      "tags": []
     },
     "output_type": "execute_result"
    }
   ],
   "source": [
    "# Creating new columns of Read Counts\n",
    "df['read_counts'] = np.random.randint(0, 101, df.shape[0])\n",
    "df.head()"
   ]
  },
  {
   "cell_type": "code",
   "execution_count": null,
   "metadata": {
    "id": "H7LITsCZUcbJ"
   },
   "outputs": [],
   "source": [
    "df.to_csv('blogs_altered.csv')"
   ]
  },
  {
   "cell_type": "code",
   "execution_count": null,
   "metadata": {
    "id": "3IIUXQkG8T1v"
   },
   "outputs": [],
   "source": [
    "# function that takes in blog title as input and returns the top 10 recommended blogs\n",
    "def recommendations(title, cosine_sim = cosine_sim):\n",
    "    \n",
    "    recommended_blogs = []\n",
    "    \n",
    "    # gettin the index of the blog that matches the title\n",
    "    idx = indices[indices == title].index[0]\n",
    "\n",
    "    # creating a Series with the similarity scores in descending order\n",
    "    score_series = pd.Series(cosine_sim[idx]).sort_values(ascending = False)\n",
    "\n",
    "    # getting the indexes of the 5 most similar blogs\n",
    "    top_5_indexes = list(score_series.iloc[1:6].index)\n",
    "\n",
    "    # getting the indexes of the next 5 most similar blogs\n",
    "    next_top_5_indexes = list(score_series.iloc[6:11].index)\n",
    "    \n",
    "    # populating the list with the titles of the best 5 matching blogs\n",
    "    for i in top_5_indexes:\n",
    "        recommended_blogs.append(list(df.index)[i])\n",
    "\n",
    "    for i in next_top_5_indexes:\n",
    "        recommended_blogs.append(list(df.index)[i])\n",
    "        \n",
    "    return recommended_blogs"
   ]
  },
  {
   "cell_type": "code",
   "execution_count": null,
   "metadata": {
    "id": "vZ4XGiwlIKBx"
   },
   "outputs": [],
   "source": [
    "def recommendations_read_counts(title):\n",
    "  recommended_blogs = recommendations(title, cosine_sim = cosine_sim)\n",
    "  recommendations_list = recommendations(title)\n",
    "  \n",
    "  #getting the read_count of the top 5 recommended blogs\n",
    "  count_list = []\n",
    "  for i in range(0, 5):\n",
    "    count_list.append(df.read_counts[recommendations_list[i]])\n",
    "  count_list.sort(reverse=True)\n",
    "\n",
    "  # gettin the index of the blog that matches the title\n",
    "  idx = indices[indices == title].index[0]\n",
    "\n",
    "  # creating a Series with the similarity scores in descending order\n",
    "  score_series = pd.Series(cosine_sim[idx]).sort_values(ascending = False)\n",
    "\n",
    "  # Sorting top 5 blogs based on read_counts\n",
    "  recommended_blogs_sorted = [x for _, x in sorted(zip(count_list, recommended_blogs))]\n",
    "\n",
    "  # getting the indexes of the next 5 most similar blogs\n",
    "  next_top_5_indexes = list(score_series.iloc[6:11].index)\n",
    "\n",
    "  for i in next_top_5_indexes:\n",
    "      recommended_blogs_sorted.append(list(df.index)[i])\n",
    "\n",
    "  return recommended_blogs_sorted"
   ]
  },
  {
   "cell_type": "code",
   "execution_count": null,
   "metadata": {
    "colab": {
     "base_uri": "https://localhost:8080/"
    },
    "id": "iVifgv4CJ1VS",
    "outputId": "1d6c7db1-d982-42a9-ccec-03b09bf5f9f3"
   },
   "outputs": [
    {
     "data": {
      "text/plain": [
       "['NAS cosponsors ScienceDebate2008; joins AAAS and a bajillion bloggers',\n",
       " 'Should there be a Presidential Debate about Science?',\n",
       " 'Science Debate 2008 - my Question #1: Scientific Advice to the President',\n",
       " 'The Donald Trump War on Science: Scholarly and Professional Society Statements in Support of Open Science Communications',\n",
       " 'Exclusive: Interview with Senator John Edwards on Science-Related Topics',\n",
       " 'Pew Survey of Scientists & the Public: Implications for Public Engagement and Communication',\n",
       " \"It's Official: Bush Will Pull a Gingrich\",\n",
       " 'Obama on Science',\n",
       " 'Raising the barriers:  restricting access to scientific literature will hurt STEM education',\n",
       " 'Scientists Should Be Skeptical of Funding Through the Stimulus Package (updated)']"
      ]
     },
     "execution_count": 24,
     "metadata": {
      "tags": []
     },
     "output_type": "execute_result"
    }
   ],
   "source": [
    "recommendations_read_counts('A Question For The President')"
   ]
  },
  {
   "cell_type": "code",
   "execution_count": null,
   "metadata": {
    "colab": {
     "base_uri": "https://localhost:8080/"
    },
    "id": "2g_N_PjTLIQv",
    "outputId": "528c39ab-5efe-4e65-e30a-b024cf4edca7"
   },
   "outputs": [
    {
     "data": {
      "text/plain": [
       "['Why observatories shoot lasers at the Universe',\n",
       " 'Ten Questions to Ask Your Biology Teacher About Intelligent Design',\n",
       " 'Happy Earth Day, 2011 Edition!',\n",
       " 'What the James Webb Space Telescope means',\n",
       " 'Celestial Square One',\n",
       " 'Your Friday Dose of Woo: Generation woo',\n",
       " 'The Most Impossible Idea From Star Trek (Synopsis)',\n",
       " \"The 10 Best Books I've Read This Year\",\n",
       " 'If Aliens Exist, should we be eager to meet them?',\n",
       " 'ScienceOnline2010 - interview with Scott Huler']"
      ]
     },
     "execution_count": 25,
     "metadata": {
      "tags": []
     },
     "output_type": "execute_result"
    }
   ],
   "source": [
    "recommendations_read_counts('5 NASA Photos That Changed The World')"
   ]
  },
  {
   "cell_type": "code",
   "execution_count": null,
   "metadata": {
    "colab": {
     "base_uri": "https://localhost:8080/"
    },
    "id": "nFnyPYP2LIQx",
    "outputId": "923f6a5d-5b70-4ea1-80f9-ff7c48356308"
   },
   "outputs": [
    {
     "data": {
      "text/plain": [
       "['Exclusive: Interview with Senator John Edwards on Science-Related Topics',\n",
       " 'An end to climate silence',\n",
       " 'Pandemic prep teachable moment',\n",
       " 'Obama takes a science test',\n",
       " 'Pandemic prep teachable moment',\n",
       " 'What if, rather than being too stringent about drug approval, the FDA is not being stringent enough?',\n",
       " 'The War On Science: What It Is And How To Win It',\n",
       " 'Overdiagnosis of breast cancer due to mammography',\n",
       " 'Making Liquid Fuels From Sun And Air',\n",
       " 'A rebuke to the antivaccine movement: A hundred million cases of disease prevented and millions of lives saved by vaccines']"
      ]
     },
     "execution_count": 26,
     "metadata": {
      "tags": []
     },
     "output_type": "execute_result"
    }
   ],
   "source": [
    "recommendations('Worthless advice on bioterrorism to the new administration')"
   ]
  },
  {
   "cell_type": "code",
   "execution_count": null,
   "metadata": {
    "colab": {
     "base_uri": "https://localhost:8080/"
    },
    "id": "AxYdSourLIQz",
    "outputId": "9dcff80e-e69f-45a5-8593-667d92b31898"
   },
   "outputs": [
    {
     "data": {
      "text/plain": [
       "['\"Liquid biopsies\" for cancer: not ready for prime time',\n",
       " 'Adverse effects of chemotherapy in breast cancer: Balancing risks and benefits',\n",
       " 'What if, rather than being too stringent about drug approval, the FDA is not being stringent enough?',\n",
       " 'Vertebroplasty for compression fractures due to osteoporosis: Modern acupuncture',\n",
       " 'Early detection of cancer, part 2: Breast cancer and the never-ending confusion over screening',\n",
       " 'Overdiagnosis of breast cancer due to mammography',\n",
       " 'The Canadian Breast Screening Study attacked: Why do doctors have such a hard time with the concept of overdiagnosis?',\n",
       " 'Balancing scientific rigor versus patient good in clinical trials',\n",
       " 'The early detection of cancer: More complicated than you think',\n",
       " 'Crank spin versus science on mammography']"
      ]
     },
     "execution_count": 27,
     "metadata": {
      "tags": []
     },
     "output_type": "execute_result"
    }
   ],
   "source": [
    "recommendations_read_counts('Harpooning For Dummies')"
   ]
  },
  {
   "cell_type": "code",
   "execution_count": null,
   "metadata": {
    "id": "u5tSwnHLLlDN"
   },
   "outputs": [],
   "source": []
  }
 ],
 "metadata": {
  "colab": {
   "collapsed_sections": [],
   "name": "Content_Based.ipynb",
   "provenance": []
  },
  "kernelspec": {
   "display_name": "Python 3",
   "language": "python",
   "name": "python3"
  },
  "language_info": {
   "codemirror_mode": {
    "name": "ipython",
    "version": 3
   },
   "file_extension": ".py",
   "mimetype": "text/x-python",
   "name": "python",
   "nbconvert_exporter": "python",
   "pygments_lexer": "ipython3",
   "version": "3.8.5"
  }
 },
 "nbformat": 4,
 "nbformat_minor": 1
}
